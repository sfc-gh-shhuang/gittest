{
  "metadata": {
    "kernelspec": {
      "display_name": "Jupyter Notebook",
      "name": "jupyter"
    }
  },
  "nbformat_minor": 5,
  "nbformat": 4,
  "cells": [
    {
      "id": "82ac6653-1dee-44da-8a11-69aaadfaae37",
      "cell_type": "markdown",
      "metadata": {
        "collapsed": false,
        "codeCollapsed": true
      },
      "source": "# Welcome to the ❄️ Notebooks in Workspaces Preview! 🌟\nSnowflake Notebook in Workspaces is a fully-managed Jupyter-powered notebook built for end-to-end DS and ML development on Snowflake data. This includes: \n- 🐍 **Familiar Jupyter experience** - Get the full power of a Jupyter Python notebook environment, directly connected to the governed Snowflake data. \n- ✏️ **Full IDE features** - Easy editing and file management for maximum productivity.\n- 🧠 **Powerful for AI/ML** - Runs in a pre-built container environment optimized for scalable AI/ML development with fully-managed access to CPUs and GPUs, parallel data loading, distributed training APIs for popular ML packages (e.g. xgboost, pytorch, lightGBM).\n- ⚙️ **Governed collaboration** - Enable multiple users to collaborate simultaneously with built-in governance and a complete history of changes via Git or shared workspaces.\n\nIn this demo notebook, we’ll highlight some features that will make your work easier and more efficient!",
      "outputs": []
    },
    {
      "id": "c158a5ed-5aab-4256-9bf5-61ba1294e897",
      "cell_type": "markdown",
      "metadata": {
        "collapsed": false,
        "codeCollapsed": true
      },
      "source": "## Markdown H1, H2, H3 are auto-converted to ToC\nFor SQL and Python cells, if the first line is a comment, that'll be the \"cell name\" shown in the minimap.",
      "outputs": []
    },
    {
      "id": "cbf28b63-00b4-435d-a770-32a8c606fd7b",
      "cell_type": "markdown",
      "metadata": {
        "collapsed": false,
        "codeCollapsed": true
      },
      "source": "## Easier package management",
      "outputs": []
    },
    {
      "id": "3f732f6f-1b71-411b-b3bb-babb97161bc3",
      "cell_type": "markdown",
      "metadata": {
        "collapsed": false,
        "codeCollapsed": true
      },
      "source": "## Pre-installed packages\nOur Container Runtime comes with ~70 popular data science and machine learning packages. Check them out using `!pip freeze`! ",
      "outputs": []
    },
    {
      "id": "c720173b-d277-4ff4-8eb8-2339df47101e",
      "cell_type": "code",
      "metadata": {
        "language": "python"
      },
      "source": "# List the pre-installed packages\n!pip freeze",
      "outputs": []
    },
    {
      "id": "879a98e2-a92e-435e-ae93-f7de1d11df8c",
      "cell_type": "markdown",
      "metadata": {
        "collapsed": false,
        "codeCollapsed": true
      },
      "source": "## Streamline package setup using `requirements.txt`\n\nQuickly set up your environment by using a `requirements.txt` file across all notebooks in your Workspace! This is a great way to ensure reproducibility and facilitate collaboration & deployment.\n\n- List all dependencies\n- Use the exact same versions\n\nYou may need to restart the service to get packages updated. Navigate to the split button on \"Connected\" and select \"Restart service\".",
      "outputs": []
    },
    {
      "id": "81f9e440-4519-46cd-b259-3b7121b9c002",
      "cell_type": "code",
      "metadata": {
        "language": "python"
      },
      "source": "!pip install -r ../packages/requirements.txt\n\n# Now restart notebook if you want the package versions to match what's specified in requirements.txt",
      "outputs": []
    },
    {
      "id": "9c0c58ed-54f5-4198-a977-bb517d3d4ee9",
      "cell_type": "code",
      "metadata": {
        "language": "python"
      },
      "source": "# Check package version matches what's specified in requirements.txt\nimport matplotlib as plt\nprint(\"Note that you need to restart notebook. Updated matplotlib version:\", plt.__version__)",
      "outputs": []
    },
    {
      "id": "4b1bb3a2-b85e-4468-b728-a7ceaf67fb09",
      "cell_type": "markdown",
      "metadata": {
        "collapsed": false,
        "codeCollapsed": true
      },
      "source": "## Get more packages via EAIs\nAsk your admins to provision External Access Integrations that allows secure connection from your Snowflake environment to external end points. Turn on EAIs when you create a new service. The EAIs will be shared across all notebooks connected to the same service.\n\n",
      "outputs": []
    },
    {
      "id": "faa69711-e2dc-413f-862a-0ddc76b72d7a",
      "cell_type": "code",
      "metadata": {
        "language": "python"
      },
      "source": "# Quickly check that your service can now reach external endpoints allowed by the EAIs.\nimport requests\n\ndef check_internet(url=\"http://www.google.com/\", timeout=3):\n    try:\n        response = requests.get(url, timeout=timeout)\n        return True if response.status_code == 200 else False\n    except requests.ConnectionError:\n        return False\n\nif check_internet():\n    print(\"Internet is available ✅\")\nelse:\n    print(\"No internet connection ❌\")",
      "outputs": []
    },
    {
      "id": "c9674fe4-b04b-49bb-a649-cbef44c36348",
      "cell_type": "code",
      "metadata": {
        "language": "python"
      },
      "source": "# Now you can `pip install` packages\n!pip install duckdb\nimport duckdb\nprint(\"DuckDB version:\", duckdb.__version__)",
      "outputs": []
    },
    {
      "id": "857a0739-3285-4a02-b822-3a57836ef13c",
      "cell_type": "markdown",
      "metadata": {
        "collapsed": false,
        "codeCollapsed": true
      },
      "source": "## Install from a `.whl` file",
      "outputs": []
    },
    {
      "id": "4e22b539-24c1-454d-8900-8eea47ccc98d",
      "cell_type": "code",
      "metadata": {
        "language": "python"
      },
      "source": "# Upload your `.whl` file to Workspace and pip install\n!pip install \"../packages/loguru-0.7.3-py3-none-any.whl\"",
      "outputs": []
    },
    {
      "id": "c1c58866-9bf4-403f-b712-d9f3ff9733a3",
      "cell_type": "code",
      "metadata": {
        "language": "python"
      },
      "source": "import loguru\nprint(\"loguru version:\", loguru.__version__)",
      "outputs": []
    },
    {
      "id": "6cfb47a5-7e99-4fec-a1bc-98bd99443da1",
      "cell_type": "markdown",
      "metadata": {
        "collapsed": false,
        "codeCollapsed": true
      },
      "source": "# Easier and more powerful cell referencing\n\nWe now support SQL to Python and Python to SQL referencing **including dataframes**!",
      "outputs": []
    },
    {
      "id": "b6827917-de47-4f88-8c5e-51be85489970",
      "cell_type": "markdown",
      "metadata": {
        "collapsed": false,
        "codeCollapsed": true
      },
      "source": "### From Python to SQL\nUploaded a CSV file and want to convert it into SQL? Now you can now follow these simple steps:",
      "outputs": []
    },
    {
      "id": "56134a12-fa51-4baf-a9d5-0a0c4a9d8bbd",
      "cell_type": "code",
      "metadata": {
        "language": "python"
      },
      "source": "# Read in data from a CSV file\n\nimport pandas as pd\n\nuploaded_df = pd.read_csv(\"../data/diamonds.csv\")\nuploaded_df",
      "outputs": []
    },
    {
      "id": "aa397bfb-b5e4-4119-ab60-3ad3910213c6",
      "cell_type": "code",
      "metadata": {
        "language": "python"
      },
      "source": "var = '\"price\"'",
      "outputs": []
    },
    {
      "id": "fda960a2-1227-4926-a0a3-162255914fd2",
      "cell_type": "code",
      "metadata": {
        "resultVariableName": "dataframe_1",
        "language": "sql"
      },
      "source": "-- Reference a pandas dataframe and a Python variable in a SQL query\nSELECT * FROM {{uploaded_df}} where {{var}} > 326;",
      "outputs": []
    },
    {
      "id": "92dbc75f-01e6-49f6-8041-5e3648021c34",
      "cell_type": "markdown",
      "metadata": {
        "collapsed": false,
        "codeCollapsed": true
      },
      "source": "### From SQL to SQL or SQL to Python\n\nAll SQL cells come with a `pandas` dataframe mapping to the last query in the cell. For example, the above cell has `dataframe_1`.\n- You can directly use `dataframe_1` in Python code.\n- Or, wrap it inside double curly braces to be referenced in another SQL query. \n\nLet's look at some examples.\n",
      "outputs": []
    },
    {
      "id": "013e793b-f14a-471a-ac4e-74702a2f81a2",
      "cell_type": "code",
      "metadata": {
        "resultVariableName": "dataframe_4",
        "language": "sql"
      },
      "source": "-- Reference a SQL query result in another SQL query\nSELECT * FROM {{dataframe_1}} WHERE \"carat\" < 1.0\nUNION ALL\nSELECT * FROM {{dataframe_1}} WHERE \"carat\" >= 1.0;",
      "outputs": []
    },
    {
      "id": "4276d7f7-a9e7-4579-9ad9-bc3badfe4ab2",
      "cell_type": "code",
      "metadata": {
        "language": "python"
      },
      "source": "# Or directly use a SQL table result in Python code for some visualization!\nimport matplotlib.pyplot as plt\nimport seaborn as sns\n\n# Randomly sample 2000 points for plotting (dataset has ~54k rows)\nsampled = dataframe_1.sample(n=1000, random_state=42)\n\n# Plot sampled points\nplt.figure(figsize=(8, 5))\nplt.scatter(sampled['carat'], sampled['price'], alpha=0.3, color='green')\nplt.xlabel('Carat')\nplt.ylabel('Price')\nplt.title('Diamonds: Price vs Carat (Sampled)')\nplt.grid(True)\nplt.show()",
      "outputs": []
    },
    {
      "id": "de265552-141d-4fd3-9a3e-0a61b7b10aa7",
      "cell_type": "markdown",
      "metadata": {
        "collapsed": false,
        "codeCollapsed": true
      },
      "source": "# Import from Python files",
      "outputs": []
    },
    {
      "id": "e95ece0a-70b5-41db-a51f-2a7db5a9128c",
      "cell_type": "code",
      "metadata": {
        "language": "python"
      },
      "source": "%load_ext autoreload\n%autoreload 2",
      "outputs": []
    },
    {
      "id": "aafc18e2-37b6-4824-9b73-c9067f921fe6",
      "cell_type": "code",
      "metadata": {
        "language": "python"
      },
      "source": "from math_utils import add, multiply\n\n# Use these functions\nprint(add(2, 3))      ",
      "outputs": []
    },
    {
      "id": "f9fb5aae-9fd1-4860-b120-529b2242f2fd",
      "cell_type": "markdown",
      "metadata": {
        "collapsed": false,
        "codeCollapsed": true
      },
      "source": "# Magic commands",
      "outputs": []
    },
    {
      "id": "f17a5ca7-bdce-4162-8290-aba899d9a41e",
      "cell_type": "markdown",
      "metadata": {
        "collapsed": false,
        "codeCollapsed": true
      },
      "source": "You may have noticed that the `%autoreload` magic is used in the above cells to pull in changes to the `math_utils.py` file. Chcek out more built-in line and cell magics!",
      "outputs": []
    },
    {
      "id": "e7724d3b-0f6f-4d11-8778-6b33c1b1097d",
      "cell_type": "code",
      "metadata": {
        "language": "python"
      },
      "source": "%lsmagic",
      "outputs": []
    },
    {
      "id": "4d3c163d-3b83-4b7c-a282-c4d51ce79ab5",
      "cell_type": "code",
      "metadata": {
        "language": "python"
      },
      "source": "# Try some more magics!\n%env",
      "outputs": []
    },
    {
      "id": "7a5050e4-f1af-4931-8a54-e4e7f8072636",
      "cell_type": "code",
      "metadata": {
        "language": "python"
      },
      "source": "%timeit sum(range(1000000))    ",
      "outputs": []
    },
    {
      "id": "4511dbe1-aeb2-4125-ad76-6935b243f650",
      "cell_type": "markdown",
      "metadata": {
        "collapsed": false,
        "codeCollapsed": true
      },
      "source": "### Chaining multiple Notebooks / Python files\nYou may want to modularize your project into separate files and iterate on those separately, e.g. business logic units, ML preprocessing functions, SQL parsers, or visualization utilities. To run these pieces together, simple bring them into the Notebook process by using the `%run` command.",
      "outputs": []
    },
    {
      "id": "cd9960f2-7e33-4aec-8a80-286c19e8d73c",
      "cell_type": "code",
      "metadata": {
        "language": "python"
      },
      "source": "# Execute another notebook in the same process\n%run \"2nd_notebook.ipynb\"",
      "outputs": []
    },
    {
      "id": "2cd3a033-9671-406b-8e73-2aa8d0b475ba",
      "cell_type": "markdown",
      "metadata": {
        "codeCollapsed": true
      },
      "source": "# Git-synced workspace\nSync with your Git repo from Workspaces! View diff, merge conflicts, switch branches, and more!",
      "outputs": []
    }
  ]
}
